{
 "cells": [
  {
   "cell_type": "markdown",
   "metadata": {},
   "source": [
    "# Imports\n",
    "## import packages"
   ]
  },
  {
   "cell_type": "code",
   "execution_count": 2,
   "metadata": {},
   "outputs": [],
   "source": [
    "import pandas as pd\n",
    "import numpy as np\n",
    "import statsmodels.api as sm\n",
    "import datetime as dt\n",
    "import os\n",
    "from matplotlib import pyplot as plt\n",
    "from sklearn import linear_model"
   ]
  },
  {
   "cell_type": "markdown",
   "metadata": {},
   "source": [
    "## import scripts"
   ]
  },
  {
   "cell_type": "code",
   "execution_count": 3,
   "metadata": {},
   "outputs": [],
   "source": [
    "# location of data\n",
    "file = '../../data/tacoma.csv'\n",
    "\n",
    "data = pd.read_csv(file)\n",
    "data = pd.melt(data, id_vars=['date', 'high', 'low', 'tdelta'])\n",
    "data.columns = ['date', 'high', 'low', 'tdelta', 'time', 'load']\n",
    "data['date'] = data['date'].astype(str) + ' ' + data['time'].astype(str)\n",
    "data = data.drop('time', axis=1)\n",
    "\n",
    "\n",
    "data['date'] = pd.to_datetime(data['date'], errors='coerce')\n",
    "data.sort_values(by='date', inplace = True)\n",
    "\n",
    "data['date']\n",
    "data.set_index('date', inplace=True)\n",
    "\n",
    "# time of day\n",
    "data['hour'] = data.index.hour\n",
    "\n",
    "# isoweek number\n",
    "data['dates'] = data.index.date\n",
    "data['iso_week'] = data.dates.apply(lambda x: x.isocalendar()[1])\n",
    "data.drop('dates', axis=1, inplace=True)\n",
    "\n",
    "# 0 = monday, 6 = sunday\n",
    "data['dayofweek'] = data.index.dayofweek\n",
    "#dropna\n",
    "data.dropna(inplace=True)\n",
    "data['temp_avg'] = data[['high', 'low']].mean(axis=1)"
   ]
  },
  {
   "cell_type": "markdown",
   "metadata": {},
   "source": [
    "## Add daytype, dayofyear, logload"
   ]
  },
  {
   "cell_type": "code",
   "execution_count": 5,
   "metadata": {},
   "outputs": [],
   "source": [
    "# set values for daytype\n",
    "conditions = [\n",
    "    # non workday\n",
    "    (data['dayofweek'].astype(float) == 5),\n",
    "    (data['dayofweek'].astype(float) == 6),\n",
    "    \n",
    "    # day before non workday\n",
    "    (data['dayofweek'].astype(float) == (4)),\n",
    "    \n",
    "    # day after non workday\n",
    "    (data['dayofweek'].astype(float) == (0))]\n",
    "\n",
    "choices = [0, 0, 1, 2]\n",
    "data['day_type'] = np.select(conditions, choices, default='-1')\n",
    "\n",
    "# add columns for dayofyear and logload\n",
    "data['dayofyear'] = data.index.dayofyear\n",
    "data['logload'] = np.log(data.load)"
   ]
  },
  {
   "cell_type": "code",
   "execution_count": 6,
   "metadata": {},
   "outputs": [],
   "source": [
    "# write data to file\n",
    "data.to_csv('pydata.csv', index='date', header=True)"
   ]
  },
  {
   "cell_type": "code",
   "execution_count": 7,
   "metadata": {},
   "outputs": [],
   "source": [
    "# split train and test data\n",
    "# only iso week 53 is 2016\n",
    "train = data['2013':'2017']\n",
    "\n",
    "#, data['2014-01'], data['2015-01'], data['2016-01'],data['2017-01']\n",
    "test = data['2018']\n",
    "train_load = train.load.to_frame()\n",
    "test_load = test.load.to_frame()"
   ]
  },
  {
   "cell_type": "code",
   "execution_count": null,
   "metadata": {},
   "outputs": [],
   "source": []
  }
 ],
 "metadata": {
  "kernelspec": {
   "display_name": "Python 3",
   "language": "python",
   "name": "python3"
  },
  "language_info": {
   "codemirror_mode": {
    "name": "ipython",
    "version": 3
   },
   "file_extension": ".py",
   "mimetype": "text/x-python",
   "name": "python",
   "nbconvert_exporter": "python",
   "pygments_lexer": "ipython3",
   "version": "3.7.3"
  }
 },
 "nbformat": 4,
 "nbformat_minor": 2
}
